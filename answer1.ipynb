{
 "cells": [
  {
   "cell_type": "code",
   "execution_count": 48,
   "metadata": {},
   "outputs": [],
   "source": [
    "import json\n",
    "\n",
    "with open('Desktop/New Text Document.txt') as json_file:\n",
    "    data1 = json.load(json_file)\n"
   ]
  },
  {
   "cell_type": "code",
   "execution_count": 49,
   "metadata": {},
   "outputs": [],
   "source": [
    "with open('Desktop/New Text Document (2).txt') as json_file:\n",
    "    data2 = json.load(json_file)\n"
   ]
  },
  {
   "cell_type": "code",
   "execution_count": 50,
   "metadata": {},
   "outputs": [],
   "source": [
    "with open('Desktop/New Text Document (3).txt') as json_file:\n",
    "    data3 = json.load(json_file)\n"
   ]
  },
  {
   "cell_type": "code",
   "execution_count": 51,
   "metadata": {},
   "outputs": [],
   "source": [
    "schema = {\n",
    "        \"Strikers\":{\n",
    "          \"name\": {\n",
    "              \"club\": {\n",
    "                \"mergeStrategy\": \"append\"                }\n",
    "            }\n",
    "      }\n",
    "}\n",
    "\n"
   ]
  },
  {
   "cell_type": "code",
   "execution_count": 56,
   "metadata": {},
   "outputs": [
    {
     "name": "stdout",
     "output_type": "stream",
     "text": [
      "{'strikers': [{'club': 'Manchester United', 'name': 'Alexis Sanchez'},\n",
      "              {'club': 'Feyenoord', 'name': 'Robin van Persie'},\n",
      "              {'club': 'Arsenal', 'name': 'Nicolas Pepe'},\n",
      "              {'club': 'Napoli', 'name': 'Gonzalo Higuain'},\n",
      "              {'club': 'Bengaluru FC', 'name': 'Sunil Chettri'}]}\n"
     ]
    }
   ],
   "source": [
    "from jsonmerge import Merger\n",
    "merger = Merger(schema)\n",
    "result = merger.merge(data1, data2,data3)\n",
    "from pprint import pprint\n",
    "pprint(result, width=150)\n"
   ]
  },
  {
   "cell_type": "code",
   "execution_count": null,
   "metadata": {},
   "outputs": [],
   "source": []
  },
  {
   "cell_type": "code",
   "execution_count": null,
   "metadata": {},
   "outputs": [],
   "source": []
  }
 ],
 "metadata": {
  "kernelspec": {
   "display_name": "Python 3",
   "language": "python",
   "name": "python3"
  },
  "language_info": {
   "codemirror_mode": {
    "name": "ipython",
    "version": 3
   },
   "file_extension": ".py",
   "mimetype": "text/x-python",
   "name": "python",
   "nbconvert_exporter": "python",
   "pygments_lexer": "ipython3",
   "version": "3.7.4"
  }
 },
 "nbformat": 4,
 "nbformat_minor": 2
}
